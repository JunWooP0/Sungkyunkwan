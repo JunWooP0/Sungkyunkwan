{
 "cells": [
  {
   "cell_type": "code",
   "execution_count": 50,
   "metadata": {},
   "outputs": [],
   "source": [
    "import pandas as pd\n",
    "import numpy as np\n",
    "from sklearn.preprocessing import StandardScaler\n",
    "from sklearn.model_selection import train_test_split, KFold\n",
    "from sklearn.linear_model import LinearRegression, LogisticRegression,SGDRegressor, SGDClassifier\n",
    "from sklearn.metrics import mean_squared_error, accuracy_score, classification_report\n",
    "from sklearn.preprocessing import PolynomialFeatures\n",
    "import time\n",
    "from sklearn.linear_model import Ridge\n",
    "from sklearn.neighbors import KNeighborsClassifier\n",
    "from sklearn.model_selection import cross_val_score\n",
    "from sklearn.metrics import log_loss"
   ]
  },
  {
   "cell_type": "code",
   "execution_count": 51,
   "metadata": {},
   "outputs": [],
   "source": [
    "# 데이터 로드\n",
    "data = pd.read_csv('Stateofsewage.csv')"
   ]
  },
  {
   "cell_type": "code",
   "execution_count": 52,
   "metadata": {},
   "outputs": [],
   "source": [
    "# 위도와 경도를 표준화\n",
    "scaler = StandardScaler()\n",
    "data[['Latitude', 'Longitude']] = scaler.fit_transform(data[['Geographical Location (Latitude)', 'Geographical Location (Longitude)']])"
   ]
  },
  {
   "cell_type": "code",
   "execution_count": 53,
   "metadata": {},
   "outputs": [],
   "source": [
    "\n",
    "\n",
    "# 라벨 데이터 매핑 (Good -> 2, Moderate -> 1, Poor -> 0)\n",
    "label_mapping = {'Good': 2, 'Moderate': 1, 'Poor': 0}\n",
    "data['Label'] = data['State of Sewage System'].map(label_mapping)"
   ]
  },
  {
   "cell_type": "code",
   "execution_count": 54,
   "metadata": {},
   "outputs": [],
   "source": [
    "y_regression = data[['Nitrogen (mg/L)', 'Phosphorus (mg/L)']]\n",
    "y_classification = data['Label']"
   ]
  },
  {
   "cell_type": "code",
   "execution_count": 55,
   "metadata": {},
   "outputs": [
    {
     "name": "stdout",
     "output_type": "stream",
     "text": [
      "--- Softmax Regression ---\n",
      "Test Accuracy: 0.5029\n",
      "              precision    recall  f1-score   support\n",
      "\n",
      "        Poor       0.00      0.00      0.00      1466\n",
      "    Moderate       0.00      0.00      0.00      2519\n",
      "        Good       0.50      1.00      0.67      4031\n",
      "\n",
      "    accuracy                           0.50      8016\n",
      "   macro avg       0.17      0.33      0.22      8016\n",
      "weighted avg       0.25      0.50      0.34      8016\n",
      "\n"
     ]
    },
    {
     "name": "stderr",
     "output_type": "stream",
     "text": [
      "c:\\Users\\ppjw0\\AppData\\Local\\Programs\\Python\\Python312\\Lib\\site-packages\\sklearn\\metrics\\_classification.py:1531: UndefinedMetricWarning: Precision is ill-defined and being set to 0.0 in labels with no predicted samples. Use `zero_division` parameter to control this behavior.\n",
      "  _warn_prf(average, modifier, f\"{metric.capitalize()} is\", len(result))\n",
      "c:\\Users\\ppjw0\\AppData\\Local\\Programs\\Python\\Python312\\Lib\\site-packages\\sklearn\\metrics\\_classification.py:1531: UndefinedMetricWarning: Precision is ill-defined and being set to 0.0 in labels with no predicted samples. Use `zero_division` parameter to control this behavior.\n",
      "  _warn_prf(average, modifier, f\"{metric.capitalize()} is\", len(result))\n",
      "c:\\Users\\ppjw0\\AppData\\Local\\Programs\\Python\\Python312\\Lib\\site-packages\\sklearn\\metrics\\_classification.py:1531: UndefinedMetricWarning: Precision is ill-defined and being set to 0.0 in labels with no predicted samples. Use `zero_division` parameter to control this behavior.\n",
      "  _warn_prf(average, modifier, f\"{metric.capitalize()} is\", len(result))\n"
     ]
    }
   ],
   "source": [
    "X_direct = y_regression.values  # Nitrogen과 Phosphorus를 입력 데이터로 사용\n",
    "y_direct = y_classification\n",
    "\n",
    "# 데이터 분리\n",
    "X_train_direct, X_test_direct, y_train_direct, y_test_direct = train_test_split(\n",
    "    X_direct, y_direct, test_size=0.2, random_state=42\n",
    ")\n",
    "\n",
    "softmax_direct_model = SGDClassifier(loss='log_loss', learning_rate='constant', eta0=0.01, random_state=42)\n",
    "start_time_softmax = time.time()\n",
    "\n",
    "# Softmax 학습 (Mini-batch SGD)\n",
    "for i in range(0, len(X_train_direct), 64):\n",
    "    X_batch = X_train_direct[i:i + 64]\n",
    "    y_batch = y_train_direct.iloc[i:i + 64]\n",
    "    softmax_direct_model.partial_fit(X_batch, y_batch, classes=np.unique(y_train_direct))\n",
    "\n",
    "end_time_softmax = time.time()\n",
    "softmax_train_time = end_time_softmax - start_time_softmax\n",
    "\n",
    "# Softmax 테스트\n",
    "softmax_pred = softmax_direct_model.predict(X_test_direct)\n",
    "softmax_accuracy = accuracy_score(y_test_direct, softmax_pred)\n",
    "softmax_report = classification_report(y_test_direct, softmax_pred, target_names=['Poor', 'Moderate', 'Good'])\n",
    "\n",
    "print(\"--- Softmax Regression ---\")\n",
    "print(f\"Test Accuracy: {softmax_accuracy:.4f}\")\n",
    "print(softmax_report)\n"
   ]
  },
  {
   "cell_type": "code",
   "execution_count": 40,
   "metadata": {},
   "outputs": [
    {
     "name": "stdout",
     "output_type": "stream",
     "text": [
      "--- KNN (k=3) ---\n",
      "Test Accuracy: 0.9993\n",
      "              precision    recall  f1-score   support\n",
      "\n",
      "        Poor       1.00      1.00      1.00      1270\n",
      "    Moderate       1.00      1.00      1.00      4747\n",
      "        Good       1.00      1.00      1.00      1999\n",
      "\n",
      "    accuracy                           1.00      8016\n",
      "   macro avg       1.00      1.00      1.00      8016\n",
      "weighted avg       1.00      1.00      1.00      8016\n",
      "\n"
     ]
    }
   ],
   "source": [
    "# KNN 직접 분류\n",
    "k = 3\n",
    "knn_train_times = {}\n",
    "knn_accuracies = {}\n",
    "knn_reports = {}\n",
    "\n",
    "knn_model_direct = KNeighborsClassifier(n_neighbors=k, metric='euclidean')\n",
    "start_time_knn = time.time()\n",
    "\n",
    "# KNN 학습\n",
    "knn_model_direct.fit(X_train_direct, y_train_direct)\n",
    "end_time_knn = time.time()\n",
    "\n",
    "knn_train_times[k] = end_time_knn - start_time_knn\n",
    "\n",
    "# KNN 테스트\n",
    "knn_pred = knn_model_direct.predict(X_test_direct)\n",
    "knn_accuracies[k] = accuracy_score(y_test_direct, knn_pred)\n",
    "knn_reports[k] = classification_report(y_test_direct, knn_pred, target_names=['Poor', 'Moderate', 'Good'])\n",
    "\n",
    "\n",
    "print(f\"--- KNN (k={k}) ---\")\n",
    "print(f\"Test Accuracy: {knn_accuracies[k]:.4f}\")\n",
    "print(knn_reports[k])"
   ]
  },
  {
   "cell_type": "code",
   "execution_count": 46,
   "metadata": {},
   "outputs": [],
   "source": [
    "def add_noise_to_features(X, noise_level=0.1):\n",
    "    noise = np.random.normal(0, noise_level, X.shape)\n",
    "    return X + noise\n",
    "\n",
    "# 라벨 일부를 변경\n",
    "def add_label_noise(y, noise_ratio=0.1):\n",
    "    y = y.reset_index(drop=True)  # 인덱스 재설정\n",
    "    num_noisy = int(len(y) * noise_ratio)\n",
    "    noisy_indices = np.random.choice(len(y), num_noisy, replace=False)\n",
    "    y_noisy = y.copy()\n",
    "    for idx in noisy_indices:\n",
    "        possible_labels = [label for label in np.unique(y) if label != y[idx]]\n",
    "        y_noisy.iloc[idx] = np.random.choice(possible_labels)\n",
    "    return y_noisy\n",
    "\n",
    "# 노이즈 추가된 데이터 생성\n",
    "X_train = add_noise_to_features(X_train_direct, noise_level=0.05)  # feature 노이즈 추가\n",
    "y_train = add_label_noise(y_train_direct, noise_ratio=0.1)  # 라벨 노이즈 추가\n"
   ]
  },
  {
   "cell_type": "code",
   "execution_count": 49,
   "metadata": {},
   "outputs": [
    {
     "name": "stdout",
     "output_type": "stream",
     "text": [
      "--- KNN (k=3) ---\n",
      "Training Time: 0.0286 seconds\n",
      "Test Accuracy: 0.9672\n",
      "              precision    recall  f1-score   support\n",
      "\n",
      "        Poor       0.88      0.99      0.93      1270\n",
      "    Moderate       0.99      0.97      0.98      4747\n",
      "        Good       0.98      0.96      0.97      1999\n",
      "\n",
      "    accuracy                           0.97      8016\n",
      "   macro avg       0.95      0.97      0.96      8016\n",
      "weighted avg       0.97      0.97      0.97      8016\n",
      "\n"
     ]
    }
   ],
   "source": [
    "# KNN 직접 분류\n",
    "k = 3\n",
    "knn_model = KNeighborsClassifier(n_neighbors=k, metric='euclidean')\n",
    "start_time_knn = time.time()\n",
    "\n",
    "# KNN 학습\n",
    "knn_model.fit(X_train, y_train)\n",
    "end_time_knn = time.time()\n",
    "\n",
    "# KNN 테스트\n",
    "knn_pred = knn_model.predict(X_test_direct)\n",
    "accuracy = accuracy_score(y_test_direct, knn_pred)\n",
    "report = classification_report(y_test_direct, knn_pred, target_names=['Poor', 'Moderate', 'Good'])\n",
    "\n",
    "print(f\"--- KNN (k={k}) ---\")\n",
    "print(f\"Training Time: {end_time_knn - start_time_knn:.4f} seconds\")\n",
    "print(f\"Test Accuracy: {accuracy:.4f}\")\n",
    "print(report)\n"
   ]
  }
 ],
 "metadata": {
  "kernelspec": {
   "display_name": "Python 3",
   "language": "python",
   "name": "python3"
  },
  "language_info": {
   "codemirror_mode": {
    "name": "ipython",
    "version": 3
   },
   "file_extension": ".py",
   "mimetype": "text/x-python",
   "name": "python",
   "nbconvert_exporter": "python",
   "pygments_lexer": "ipython3",
   "version": "3.12.3"
  }
 },
 "nbformat": 4,
 "nbformat_minor": 2
}
