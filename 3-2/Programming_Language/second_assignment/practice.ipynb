{
 "cells": [
  {
   "cell_type": "code",
   "execution_count": 16,
   "metadata": {},
   "outputs": [],
   "source": [
    "import random"
   ]
  },
  {
   "cell_type": "code",
   "execution_count": 41,
   "metadata": {},
   "outputs": [],
   "source": [
    "score_category = {\n",
    "    \"Aces\": None, \"Twos\": None, \"Threes\": None, \"Fours\": None, \"Fives\": None, \"Sixes\": None, \"Chance\": None,\n",
    "    \"Three Of A Kind\": None, \"Four Of A Kind\": None, \"Full House\": None,\n",
    "    \"Small Straight\": None, \"Large Straight\": None, \"Yahtzee\": None\n",
    "}"
   ]
  },
  {
   "cell_type": "code",
   "execution_count": 28,
   "metadata": {},
   "outputs": [],
   "source": [
    "\n",
    "def roll_the_dice():\n",
    "    dice = []\n",
    "    for x in range(5):\n",
    "        dice.append(random.randint(1, 6))\n",
    "    return dice"
   ]
  },
  {
   "cell_type": "code",
   "execution_count": 29,
   "metadata": {},
   "outputs": [],
   "source": [
    "def reroll_dice(dice, index):\n",
    "    for x in range(5):\n",
    "        if x in index:\n",
    "            dice[x] = random.randint(1, 6)\n",
    "    return dice"
   ]
  },
  {
   "cell_type": "code",
   "execution_count": 25,
   "metadata": {},
   "outputs": [
    {
     "ename": "SyntaxError",
     "evalue": "incomplete input (4173101251.py, line 1)",
     "output_type": "error",
     "traceback": [
      "\u001b[1;36m  Cell \u001b[1;32mIn[25], line 1\u001b[1;36m\u001b[0m\n\u001b[1;33m    def Aces(dice):\u001b[0m\n\u001b[1;37m                   ^\u001b[0m\n\u001b[1;31mSyntaxError\u001b[0m\u001b[1;31m:\u001b[0m incomplete input\n"
     ]
    }
   ],
   "source": [
    "def Aces(dice):"
   ]
  },
  {
   "cell_type": "code",
   "execution_count": 26,
   "metadata": {},
   "outputs": [
    {
     "ename": "SyntaxError",
     "evalue": "incomplete input (757090982.py, line 1)",
     "output_type": "error",
     "traceback": [
      "\u001b[1;36m  Cell \u001b[1;32mIn[26], line 1\u001b[1;36m\u001b[0m\n\u001b[1;33m    def Twos(dice):\u001b[0m\n\u001b[1;37m                   ^\u001b[0m\n\u001b[1;31mSyntaxError\u001b[0m\u001b[1;31m:\u001b[0m incomplete input\n"
     ]
    }
   ],
   "source": [
    "def Twos(dice):"
   ]
  },
  {
   "cell_type": "code",
   "execution_count": 27,
   "metadata": {},
   "outputs": [
    {
     "ename": "SyntaxError",
     "evalue": "incomplete input (849941322.py, line 1)",
     "output_type": "error",
     "traceback": [
      "\u001b[1;36m  Cell \u001b[1;32mIn[27], line 1\u001b[1;36m\u001b[0m\n\u001b[1;33m    def Threes(dice):\u001b[0m\n\u001b[1;37m                     ^\u001b[0m\n\u001b[1;31mSyntaxError\u001b[0m\u001b[1;31m:\u001b[0m incomplete input\n"
     ]
    }
   ],
   "source": [
    "def Threes(dice):"
   ]
  },
  {
   "cell_type": "code",
   "execution_count": null,
   "metadata": {},
   "outputs": [],
   "source": []
  },
  {
   "cell_type": "code",
   "execution_count": 19,
   "metadata": {},
   "outputs": [],
   "source": [
    "def Error():\n",
    "    print(\"Sorry, You have to write the valid input. try again!\")"
   ]
  },
  {
   "cell_type": "code",
   "execution_count": 39,
   "metadata": {},
   "outputs": [],
   "source": [
    "def main():\n",
    "    round = 1\n",
    "    \n",
    "    print(\"Welcome! Let's play Yahtzee!\")\n",
    "    print(f\"Round {round}\")\n",
    "    print(\"Choose an option\")\n",
    "    print(\"1. Roll\")\n",
    "    print(\"2. See Score Sheet\")\n",
    "    choice = input(\"Enter 1 or 2: \")\n",
    "    \n",
    "    if choice == '1':\n",
    "        dice = roll_the_dice()\n",
    "        print(f\"First Roll: Dice: {dice}\")\n",
    "        while True:\n",
    "            print(\"Do you want to reroll any dice?\")\n",
    "            print(\"1. Yes\")\n",
    "            print(\"2. No\")\n",
    "            reroll_choice = input(\"Enter 1 or 2: \")\n",
    "            if reroll_choice == '1':\n",
    "                reroll_index = input(\"Enter the index of the dice you want to reroll from 1-5 (ex. 1 4 5): \")\n",
    "                reroll_index = [int(i) -1 for i in reroll_index.split()]\n",
    "                dice = reroll_dice(dice, reroll_index)\n",
    "                print(f\"Reroll - Dice: {dice}\")\n",
    "            elif reroll_choice == '2':\n",
    "                break\n",
    "            else:\n",
    "                Error()\n",
    "    \n",
    "    elif choice == '2':\n",
    "        # 점수표 출력 로직 추가\n",
    "        print(\"<Score Sheet>\")\n",
    "        for category, score in score_category.items():\n",
    "            print(f\"{category}: {score if score is not None else '-'}\")\n",
    "    \n",
    "    else:\n",
    "        Error()"
   ]
  },
  {
   "cell_type": "code",
   "execution_count": 33,
   "metadata": {},
   "outputs": [
    {
     "ename": "SyntaxError",
     "evalue": "incomplete input (1020110905.py, line 1)",
     "output_type": "error",
     "traceback": [
      "\u001b[1;36m  Cell \u001b[1;32mIn[33], line 1\u001b[1;36m\u001b[0m\n\u001b[1;33m    class Score:\u001b[0m\n\u001b[1;37m                ^\u001b[0m\n\u001b[1;31mSyntaxError\u001b[0m\u001b[1;31m:\u001b[0m incomplete input\n"
     ]
    }
   ],
   "source": [
    "class Score:\n"
   ]
  },
  {
   "cell_type": "code",
   "execution_count": null,
   "metadata": {},
   "outputs": [],
   "source": [
    "class "
   ]
  },
  {
   "cell_type": "code",
   "execution_count": 40,
   "metadata": {},
   "outputs": [
    {
     "name": "stdout",
     "output_type": "stream",
     "text": [
      "Welcome! Let's play Yahtzee!\n",
      "Round 1\n",
      "Choose an option\n",
      "1. Roll\n",
      "2. See Score Sheet\n",
      "<Score Sheet>\n",
      "Aces: -\n",
      "Twos: -\n",
      "Threes: -\n",
      "Fours: -\n",
      "Fives: -\n",
      "Sixes: -\n",
      "Chance: -\n",
      "Three of a Kind: -\n",
      "Four of a Kind: -\n",
      "Full House: -\n",
      "Small Straight: -\n",
      "Large Straight: -\n",
      "Yahtzee: -\n"
     ]
    }
   ],
   "source": [
    "main()"
   ]
  }
 ],
 "metadata": {
  "kernelspec": {
   "display_name": "Python 3",
   "language": "python",
   "name": "python3"
  },
  "language_info": {
   "codemirror_mode": {
    "name": "ipython",
    "version": 3
   },
   "file_extension": ".py",
   "mimetype": "text/x-python",
   "name": "python",
   "nbconvert_exporter": "python",
   "pygments_lexer": "ipython3",
   "version": "3.12.3"
  }
 },
 "nbformat": 4,
 "nbformat_minor": 2
}
